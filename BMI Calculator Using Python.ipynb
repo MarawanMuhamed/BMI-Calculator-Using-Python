{
 "cells": [
  {
   "cell_type": "code",
   "execution_count": 13,
   "id": "a06dbe7b",
   "metadata": {},
   "outputs": [
    {
     "name": "stdout",
     "output_type": "stream",
     "text": [
      "Please enter your height in cm: 170\n",
      "Please enter your weight in kg: 100\n"
     ]
    }
   ],
   "source": [
    "# asking for input from the users\n",
    "\n",
    "height = float(input(\"Please enter your height in cm: \"))\n",
    "weight = float(input(\"Please enter your weight in kg: \"))"
   ]
  },
  {
   "cell_type": "code",
   "execution_count": 14,
   "id": "dc1e1d24",
   "metadata": {},
   "outputs": [],
   "source": [
    "# defining a function for BMI\n",
    "\n",
    "BMI = weight / (height/100)**2 "
   ]
  },
  {
   "cell_type": "code",
   "execution_count": 15,
   "id": "aaefae9a",
   "metadata": {},
   "outputs": [
    {
     "name": "stdout",
     "output_type": "stream",
     "text": [
      "Your Body Mass Index is = 34.602076124567475\n"
     ]
    }
   ],
   "source": [
    "# printing the BMI  \n",
    "\n",
    "print(\"Your Body Mass Index is =\",BMI) "
   ]
  },
  {
   "cell_type": "code",
   "execution_count": 16,
   "id": "f69be2b8",
   "metadata": {},
   "outputs": [
    {
     "name": "stdout",
     "output_type": "stream",
     "text": [
      "Uh!Oh! You are obese.\n"
     ]
    }
   ],
   "source": [
    "# using the if-elif-else conditions  \n",
    "\n",
    "if BMI <= 18.5:  \n",
    "    print(\"Not Good! You are underweight.\")  \n",
    "elif BMI <= 24.9:  \n",
    "    print(\"Great! You are healthy.\")  \n",
    "elif BMI <= 29.9:  \n",
    "    print(\"Sorry! You are over weight.\")  \n",
    "else:  \n",
    "    print(\"Uh!Oh! You are obese.\") "
   ]
  },
  {
   "cell_type": "code",
   "execution_count": null,
   "id": "62a59259",
   "metadata": {},
   "outputs": [],
   "source": []
  }
 ],
 "metadata": {
  "kernelspec": {
   "display_name": "Python 3 (ipykernel)",
   "language": "python",
   "name": "python3"
  },
  "language_info": {
   "codemirror_mode": {
    "name": "ipython",
    "version": 3
   },
   "file_extension": ".py",
   "mimetype": "text/x-python",
   "name": "python",
   "nbconvert_exporter": "python",
   "pygments_lexer": "ipython3",
   "version": "3.9.7"
  }
 },
 "nbformat": 4,
 "nbformat_minor": 5
}
